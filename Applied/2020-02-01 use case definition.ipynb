{
 "cells": [
  {
   "cell_type": "code",
   "execution_count": 1,
   "metadata": {},
   "outputs": [],
   "source": [
    "import itobes\n",
    "import pandas as pd\n",
    "import geopandas as gpd\n",
    "import matplotlib.pyplot as plt\n",
    "import flopy"
   ]
  },
  {
   "cell_type": "code",
   "execution_count": 2,
   "metadata": {},
   "outputs": [
    {
     "data": {
      "text/html": [
       "<div>\n",
       "<style scoped>\n",
       "    .dataframe tbody tr th:only-of-type {\n",
       "        vertical-align: middle;\n",
       "    }\n",
       "\n",
       "    .dataframe tbody tr th {\n",
       "        vertical-align: top;\n",
       "    }\n",
       "\n",
       "    .dataframe thead th {\n",
       "        text-align: right;\n",
       "    }\n",
       "</style>\n",
       "<table border=\"1\" class=\"dataframe\">\n",
       "  <thead>\n",
       "    <tr style=\"text-align: right;\">\n",
       "      <th></th>\n",
       "      <th>index_layer</th>\n",
       "      <th>from [m-gl]</th>\n",
       "      <th>until [m-gl]</th>\n",
       "      <th>layer thickness</th>\n",
       "      <th>permeability [m/d]</th>\n",
       "      <th>kD-value [m2/d]</th>\n",
       "      <th>c-value [d]</th>\n",
       "      <th>wells</th>\n",
       "    </tr>\n",
       "  </thead>\n",
       "  <tbody>\n",
       "    <tr>\n",
       "      <th>0</th>\n",
       "      <td>0</td>\n",
       "      <td>0</td>\n",
       "      <td>2</td>\n",
       "      <td>2</td>\n",
       "      <td>15.00</td>\n",
       "      <td>30.00</td>\n",
       "      <td>0.133333</td>\n",
       "      <td>NaN</td>\n",
       "    </tr>\n",
       "    <tr>\n",
       "      <th>1</th>\n",
       "      <td>1</td>\n",
       "      <td>2</td>\n",
       "      <td>8</td>\n",
       "      <td>6</td>\n",
       "      <td>0.01</td>\n",
       "      <td>0.06</td>\n",
       "      <td>600.000000</td>\n",
       "      <td>NaN</td>\n",
       "    </tr>\n",
       "    <tr>\n",
       "      <th>2</th>\n",
       "      <td>2</td>\n",
       "      <td>8</td>\n",
       "      <td>10</td>\n",
       "      <td>2</td>\n",
       "      <td>15.00</td>\n",
       "      <td>30.00</td>\n",
       "      <td>0.133333</td>\n",
       "      <td>NaN</td>\n",
       "    </tr>\n",
       "    <tr>\n",
       "      <th>3</th>\n",
       "      <td>3</td>\n",
       "      <td>10</td>\n",
       "      <td>13</td>\n",
       "      <td>3</td>\n",
       "      <td>0.01</td>\n",
       "      <td>0.03</td>\n",
       "      <td>300.000000</td>\n",
       "      <td>NaN</td>\n",
       "    </tr>\n",
       "    <tr>\n",
       "      <th>4</th>\n",
       "      <td>4</td>\n",
       "      <td>13</td>\n",
       "      <td>24</td>\n",
       "      <td>11</td>\n",
       "      <td>17.00</td>\n",
       "      <td>187.00</td>\n",
       "      <td>0.647059</td>\n",
       "      <td>NaN</td>\n",
       "    </tr>\n",
       "  </tbody>\n",
       "</table>\n",
       "</div>"
      ],
      "text/plain": [
       "   index_layer  from [m-gl]  until [m-gl]  layer thickness  \\\n",
       "0            0            0             2                2   \n",
       "1            1            2             8                6   \n",
       "2            2            8            10                2   \n",
       "3            3           10            13                3   \n",
       "4            4           13            24               11   \n",
       "\n",
       "   permeability [m/d]  kD-value [m2/d]  c-value [d] wells  \n",
       "0               15.00            30.00     0.133333   NaN  \n",
       "1                0.01             0.06   600.000000   NaN  \n",
       "2               15.00            30.00     0.133333   NaN  \n",
       "3                0.01             0.03   300.000000   NaN  \n",
       "4               17.00           187.00     0.647059   NaN  "
      ]
     },
     "execution_count": 2,
     "metadata": {},
     "output_type": "execute_result"
    }
   ],
   "source": [
    "# load soil schematisation\n",
    "soil_df = pd.read_excel(r\"soil_schematization.xlsx\", engine='openpyxl')\n",
    "soil_df.head()"
   ]
  },
  {
   "cell_type": "code",
   "execution_count": 3,
   "metadata": {},
   "outputs": [
    {
     "data": {
      "text/html": [
       "<div>\n",
       "<style scoped>\n",
       "    .dataframe tbody tr th:only-of-type {\n",
       "        vertical-align: middle;\n",
       "    }\n",
       "\n",
       "    .dataframe tbody tr th {\n",
       "        vertical-align: top;\n",
       "    }\n",
       "\n",
       "    .dataframe thead th {\n",
       "        text-align: right;\n",
       "    }\n",
       "</style>\n",
       "<table border=\"1\" class=\"dataframe\">\n",
       "  <thead>\n",
       "    <tr style=\"text-align: right;\">\n",
       "      <th></th>\n",
       "      <th>name</th>\n",
       "      <th>type</th>\n",
       "      <th>m3_hr_summer</th>\n",
       "      <th>m3_hr_winter</th>\n",
       "      <th>hr_day</th>\n",
       "      <th>index_layer</th>\n",
       "      <th>x</th>\n",
       "      <th>y</th>\n",
       "      <th>notes</th>\n",
       "      <th>geometry</th>\n",
       "    </tr>\n",
       "  </thead>\n",
       "  <tbody>\n",
       "    <tr>\n",
       "      <th>0</th>\n",
       "      <td>bron_1</td>\n",
       "      <td>cold</td>\n",
       "      <td>-27</td>\n",
       "      <td>31</td>\n",
       "      <td>24</td>\n",
       "      <td>6</td>\n",
       "      <td>92457</td>\n",
       "      <td>462959</td>\n",
       "      <td>cold well in summer is extraction (negative Q)...</td>\n",
       "      <td>POINT (92457.000 462959.000)</td>\n",
       "    </tr>\n",
       "    <tr>\n",
       "      <th>1</th>\n",
       "      <td>bron_2</td>\n",
       "      <td>warm</td>\n",
       "      <td>27</td>\n",
       "      <td>-31</td>\n",
       "      <td>24</td>\n",
       "      <td>10</td>\n",
       "      <td>92435</td>\n",
       "      <td>463109</td>\n",
       "      <td>warm well in summer is injection (positive Q),...</td>\n",
       "      <td>POINT (92435.000 463109.000)</td>\n",
       "    </tr>\n",
       "    <tr>\n",
       "      <th>2</th>\n",
       "      <td>bron_3</td>\n",
       "      <td>doublet-cold</td>\n",
       "      <td>-20</td>\n",
       "      <td>25</td>\n",
       "      <td>24</td>\n",
       "      <td>10</td>\n",
       "      <td>92606</td>\n",
       "      <td>462713</td>\n",
       "      <td>cold well in summer is extraction (negative Q)...</td>\n",
       "      <td>POINT (92606.000 462713.000)</td>\n",
       "    </tr>\n",
       "    <tr>\n",
       "      <th>3</th>\n",
       "      <td>bron_3</td>\n",
       "      <td>doublet-warm</td>\n",
       "      <td>20</td>\n",
       "      <td>-25</td>\n",
       "      <td>24</td>\n",
       "      <td>12</td>\n",
       "      <td>92606</td>\n",
       "      <td>462713</td>\n",
       "      <td>warm well in summer is injection (positive Q),...</td>\n",
       "      <td>POINT (92606.000 462713.000)</td>\n",
       "    </tr>\n",
       "  </tbody>\n",
       "</table>\n",
       "</div>"
      ],
      "text/plain": [
       "     name          type  m3_hr_summer  m3_hr_winter  hr_day  index_layer  \\\n",
       "0  bron_1          cold           -27            31      24            6   \n",
       "1  bron_2          warm            27           -31      24           10   \n",
       "2  bron_3  doublet-cold           -20            25      24           10   \n",
       "3  bron_3  doublet-warm            20           -25      24           12   \n",
       "\n",
       "       x       y                                              notes  \\\n",
       "0  92457  462959  cold well in summer is extraction (negative Q)...   \n",
       "1  92435  463109  warm well in summer is injection (positive Q),...   \n",
       "2  92606  462713  cold well in summer is extraction (negative Q)...   \n",
       "3  92606  462713  warm well in summer is injection (positive Q),...   \n",
       "\n",
       "                       geometry  \n",
       "0  POINT (92457.000 462959.000)  \n",
       "1  POINT (92435.000 463109.000)  \n",
       "2  POINT (92606.000 462713.000)  \n",
       "3  POINT (92606.000 462713.000)  "
      ]
     },
     "execution_count": 3,
     "metadata": {},
     "output_type": "execute_result"
    },
    {
     "data": {
      "image/png": "[encoded data removed]",
      "text/plain": [
       "<Figure size 432x288 with 1 Axes>"
      ]
     },
     "metadata": {
      "needs_background": "light"
     },
     "output_type": "display_data"
    }
   ],
   "source": [
    "# load wells\n",
    "well_df = pd.read_excel(r\"wells_defintion.xlsx\", engine=\"openpyxl\")\n",
    "well_gdf = gpd.GeoDataFrame(well_df, geometry=gpd.points_from_xy(well_df.x, well_df.y))\n",
    "well_gdf.plot()\n",
    "well_gdf.head()"
   ]
  },
  {
   "cell_type": "code",
   "execution_count": 4,
   "metadata": {},
   "outputs": [],
   "source": [
    "bd = itobes.BronData()"
   ]
  },
  {
   "cell_type": "code",
   "execution_count": 5,
   "metadata": {},
   "outputs": [],
   "source": [
    "# define grid parameters [in meters]\n",
    "bd.cellsize_large(100)\n",
    "bd.cellsize_small(10)\n",
    "bd.offset_large(1000)\n",
    "bd.offset_small(50)\n",
    "\n",
    "# define stress periods and time steps\n",
    "bd.years_total_run(20)\n",
    "bd.months_summer(7)\n",
    "bd.months_winter(5)\n",
    "bd.days_in_month(30)\n",
    "bd.days_initization(1)\n",
    "bd.start_in_summer(True)\n",
    "\n",
    "# define modelname and modellocation\n",
    "bd.name_modelrun('leo_01')\n",
    "bd.location_exe('../Exe/mf2005.exe')\n",
    "bd.location_workspace('Results')"
   ]
  },
  {
   "cell_type": "code",
   "execution_count": 6,
   "metadata": {},
   "outputs": [
    {
     "data": {
      "image/png": "[encoded data removed]",
      "text/plain": [
       "<Figure size 576x576 with 1 Axes>"
      ]
     },
     "metadata": {
      "needs_background": "light"
     },
     "output_type": "display_data"
    }
   ],
   "source": [
    "bm = itobes.BronModel(soil_df, well_gdf, bd)"
   ]
  },
  {
   "cell_type": "code",
   "execution_count": 7,
   "metadata": {},
   "outputs": [],
   "source": [
    "# # CROSS-SECTION GRID FIGURE\n",
    "# extent = (bm.dis['bbox_small'][0], bm.dis['bbox_small'][2], bm.dis['botm'][-1], bm.dis['top'])\n",
    "\n",
    "# # cross section detailed plot\n",
    "# fig = plt.figure(figsize=(10, 3))\n",
    "# ax = fig.add_subplot(1, 1, 1)\n",
    "# modelxsect = flopy.plot.PlotCrossSection(model=bm.mf, line={'Row': 20}, extent=extent, geographic_coords=True)\n",
    "# linecollection = modelxsect.plot_array(bm.mf.lpf.hk.array)#.plot_grid()"
   ]
  },
  {
   "cell_type": "code",
   "execution_count": 8,
   "metadata": {},
   "outputs": [
    {
     "name": "stdout",
     "output_type": "stream",
     "text": [
      "FloPy is using the following  executable to run the model: ../Exe/mf2005.exe\n",
      "\n",
      "                                  MODFLOW-2005     \n",
      "    U.S. GEOLOGICAL SURVEY MODULAR FINITE-DIFFERENCE GROUND-WATER FLOW MODEL\n",
      "                             Version 1.12.00 2/3/2017                        \n",
      "\n",
      " Using NAME file: leo_01.nam \n",
      " Run start date and time (yyyy/mm/dd hh:mm:ss): 2021/02/01 23:11:19\n",
      "\n",
      " Solving:  Stress period:     1    Time step:     1    Ground-Water Flow Eqn.\n",
      " Solving:  Stress period:     2    Time step:     1    Ground-Water Flow Eqn.\n",
      " Solving:  Stress period:     2    Time step:     2    Ground-Water Flow Eqn.\n",
      " Solving:  Stress period:     2    Time step:     3    Ground-Water Flow Eqn.\n",
      " Solving:  Stress period:     2    Time step:     4    Ground-Water Flow Eqn.\n",
      " Solving:  Stress period:     2    Time step:     5    Ground-Water Flow Eqn.\n",
      " Solving:  Stress period:     2    Time step:     6    Ground-Water Flow Eqn.\n",
      " Solving:  Stress period:     2    Time step:     7    Ground-Water Flow Eqn.\n",
      " Solving:  Stress period:     3    Time step:     1    Ground-Water Flow Eqn.\n",
      " Solving:  Stress period:     3    Time step:     2    Ground-Water Flow Eqn.\n",
      " Solving:  Stress period:     3    Time step:     3    Ground-Water Flow Eqn.\n",
      " Solving:  Stress period:     3    Time step:     4    Ground-Water Flow Eqn.\n",
      " Solving:  Stress period:     3    Time step:     5    Ground-Water Flow Eqn.\n",
      " Solving:  Stress period:     4    Time step:     1    Ground-Water Flow Eqn.\n",
      " Solving:  Stress period:     4    Time step:     2    Ground-Water Flow Eqn.\n",
      " Solving:  Stress period:     4    Time step:     3    Ground-Water Flow Eqn.\n",
      " Solving:  Stress period:     4    Time step:     4    Ground-Water Flow Eqn.\n",
      " Solving:  Stress period:     4    Time step:     5    Ground-Water Flow Eqn.\n",
      " Solving:  Stress period:     4    Time step:     6    Ground-Water Flow Eqn.\n",
      " Solving:  Stress period:     4    Time step:     7    Ground-Water Flow Eqn.\n",
      " Solving:  Stress period:     5    Time step:     1    Ground-Water Flow Eqn.\n",
      " Solving:  Stress period:     5    Time step:     2    Ground-Water Flow Eqn.\n",
      " Solving:  Stress period:     5    Time step:     3    Ground-Water Flow Eqn.\n",
      " Solving:  Stress period:     5    Time step:     4    Ground-Water Flow Eqn.\n",
      " Solving:  Stress period:     5    Time step:     5    Ground-Water Flow Eqn.\n",
      " Solving:  Stress period:     6    Time step:     1    Ground-Water Flow Eqn.\n",
      " Solving:  Stress period:     6    Time step:     2    Ground-Water Flow Eqn.\n",
      " Solving:  Stress period:     6    Time step:     3    Ground-Water Flow Eqn.\n",
      " Solving:  Stress period:     6    Time step:     4    Ground-Water Flow Eqn.\n",
      " Solving:  Stress period:     6    Time step:     5    Ground-Water Flow Eqn.\n",
      " Solving:  Stress period:     6    Time step:     6    Ground-Water Flow Eqn.\n",
      " Solving:  Stress period:     6    Time step:     7    Ground-Water Flow Eqn.\n",
      " Solving:  Stress period:     7    Time step:     1    Ground-Water Flow Eqn.\n",
      " Solving:  Stress period:     7    Time step:     2    Ground-Water Flow Eqn.\n",
      " Solving:  Stress period:     7    Time step:     3    Ground-Water Flow Eqn.\n",
      " Solving:  Stress period:     7    Time step:     4    Ground-Water Flow Eqn.\n",
      " Solving:  Stress period:     7    Time step:     5    Ground-Water Flow Eqn.\n",
      " Solving:  Stress period:     8    Time step:     1    Ground-Water Flow Eqn.\n",
      " Solving:  Stress period:     8    Time step:     2    Ground-Water Flow Eqn.\n",
      " Solving:  Stress period:     8    Time step:     3    Ground-Water Flow Eqn.\n",
      " Solving:  Stress period:     8    Time step:     4    Ground-Water Flow Eqn.\n",
      " Solving:  Stress period:     8    Time step:     5    Ground-Water Flow Eqn.\n",
      " Solving:  Stress period:     8    Time step:     6    Ground-Water Flow Eqn.\n",
      " Solving:  Stress period:     8    Time step:     7    Ground-Water Flow Eqn.\n",
      " Solving:  Stress period:     9    Time step:     1    Ground-Water Flow Eqn.\n",
      " Solving:  Stress period:     9    Time step:     2    Ground-Water Flow Eqn.\n",
      " Solving:  Stress period:     9    Time step:     3    Ground-Water Flow Eqn.\n",
      " Solving:  Stress period:     9    Time step:     4    Ground-Water Flow Eqn.\n",
      " Solving:  Stress period:     9    Time step:     5    Ground-Water Flow Eqn.\n",
      " Solving:  Stress period:    10    Time step:     1    Ground-Water Flow Eqn.\n",
      " Solving:  Stress period:    10    Time step:     2    Ground-Water Flow Eqn.\n",
      " Solving:  Stress period:    10    Time step:     3    Ground-Water Flow Eqn.\n",
      " Solving:  Stress period:    10    Time step:     4    Ground-Water Flow Eqn.\n",
      " Solving:  Stress period:    10    Time step:     5    Ground-Water Flow Eqn.\n",
      " Solving:  Stress period:    10    Time step:     6    Ground-Water Flow Eqn.\n",
      " Solving:  Stress period:    10    Time step:     7    Ground-Water Flow Eqn.\n",
      " Solving:  Stress period:    11    Time step:     1    Ground-Water Flow Eqn.\n",
      " Solving:  Stress period:    11    Time step:     2    Ground-Water Flow Eqn.\n",
      " Solving:  Stress period:    11    Time step:     3    Ground-Water Flow Eqn.\n",
      " Solving:  Stress period:    11    Time step:     4    Ground-Water Flow Eqn.\n",
      " Solving:  Stress period:    11    Time step:     5    Ground-Water Flow Eqn.\n",
      " Solving:  Stress period:    12    Time step:     1    Ground-Water Flow Eqn.\n",
      " Solving:  Stress period:    12    Time step:     2    Ground-Water Flow Eqn.\n",
      " Solving:  Stress period:    12    Time step:     3    Ground-Water Flow Eqn.\n",
      " Solving:  Stress period:    12    Time step:     4    Ground-Water Flow Eqn.\n",
      " Solving:  Stress period:    12    Time step:     5    Ground-Water Flow Eqn.\n",
      " Solving:  Stress period:    12    Time step:     6    Ground-Water Flow Eqn.\n",
      " Solving:  Stress period:    12    Time step:     7    Ground-Water Flow Eqn.\n",
      " Solving:  Stress period:    13    Time step:     1    Ground-Water Flow Eqn.\n",
      " Solving:  Stress period:    13    Time step:     2    Ground-Water Flow Eqn.\n",
      " Solving:  Stress period:    13    Time step:     3    Ground-Water Flow Eqn.\n",
      " Solving:  Stress period:    13    Time step:     4    Ground-Water Flow Eqn.\n",
      " Solving:  Stress period:    13    Time step:     5    Ground-Water Flow Eqn.\n",
      " Solving:  Stress period:    14    Time step:     1    Ground-Water Flow Eqn.\n",
      " Solving:  Stress period:    14    Time step:     2    Ground-Water Flow Eqn.\n",
      " Solving:  Stress period:    14    Time step:     3    Ground-Water Flow Eqn.\n",
      " Solving:  Stress period:    14    Time step:     4    Ground-Water Flow Eqn.\n",
      " Solving:  Stress period:    14    Time step:     5    Ground-Water Flow Eqn.\n",
      " Solving:  Stress period:    14    Time step:     6    Ground-Water Flow Eqn.\n",
      " Solving:  Stress period:    14    Time step:     7    Ground-Water Flow Eqn.\n",
      " Solving:  Stress period:    15    Time step:     1    Ground-Water Flow Eqn.\n",
      " Solving:  Stress period:    15    Time step:     2    Ground-Water Flow Eqn.\n",
      " Solving:  Stress period:    15    Time step:     3    Ground-Water Flow Eqn.\n",
      " Solving:  Stress period:    15    Time step:     4    Ground-Water Flow Eqn.\n",
      " Solving:  Stress period:    15    Time step:     5    Ground-Water Flow Eqn.\n",
      " Solving:  Stress period:    16    Time step:     1    Ground-Water Flow Eqn.\n",
      " Solving:  Stress period:    16    Time step:     2    Ground-Water Flow Eqn.\n",
      " Solving:  Stress period:    16    Time step:     3    Ground-Water Flow Eqn.\n",
      " Solving:  Stress period:    16    Time step:     4    Ground-Water Flow Eqn.\n",
      " Solving:  Stress period:    16    Time step:     5    Ground-Water Flow Eqn.\n",
      " Solving:  Stress period:    16    Time step:     6    Ground-Water Flow Eqn.\n",
      " Solving:  Stress period:    16    Time step:     7    Ground-Water Flow Eqn.\n",
      " Solving:  Stress period:    17    Time step:     1    Ground-Water Flow Eqn.\n",
      " Solving:  Stress period:    17    Time step:     2    Ground-Water Flow Eqn.\n",
      " Solving:  Stress period:    17    Time step:     3    Ground-Water Flow Eqn.\n",
      " Solving:  Stress period:    17    Time step:     4    Ground-Water Flow Eqn.\n",
      " Solving:  Stress period:    17    Time step:     5    Ground-Water Flow Eqn.\n",
      " Solving:  Stress period:    18    Time step:     1    Ground-Water Flow Eqn.\n",
      " Solving:  Stress period:    18    Time step:     2    Ground-Water Flow Eqn.\n",
      " Solving:  Stress period:    18    Time step:     3    Ground-Water Flow Eqn.\n",
      " Solving:  Stress period:    18    Time step:     4    Ground-Water Flow Eqn.\n",
      " Solving:  Stress period:    18    Time step:     5    Ground-Water Flow Eqn.\n",
      " Solving:  Stress period:    18    Time step:     6    Ground-Water Flow Eqn.\n",
      " Solving:  Stress period:    18    Time step:     7    Ground-Water Flow Eqn.\n",
      " Solving:  Stress period:    19    Time step:     1    Ground-Water Flow Eqn.\n",
      " Solving:  Stress period:    19    Time step:     2    Ground-Water Flow Eqn.\n",
      " Solving:  Stress period:    19    Time step:     3    Ground-Water Flow Eqn.\n",
      " Solving:  Stress period:    19    Time step:     4    Ground-Water Flow Eqn.\n",
      " Solving:  Stress period:    19    Time step:     5    Ground-Water Flow Eqn.\n",
      " Solving:  Stress period:    20    Time step:     1    Ground-Water Flow Eqn.\n",
      " Solving:  Stress period:    20    Time step:     2    Ground-Water Flow Eqn.\n",
      " Solving:  Stress period:    20    Time step:     3    Ground-Water Flow Eqn.\n",
      " Solving:  Stress period:    20    Time step:     4    Ground-Water Flow Eqn.\n",
      " Solving:  Stress period:    20    Time step:     5    Ground-Water Flow Eqn.\n",
      " Solving:  Stress period:    20    Time step:     6    Ground-Water Flow Eqn.\n",
      " Solving:  Stress period:    20    Time step:     7    Ground-Water Flow Eqn.\n",
      " Solving:  Stress period:    21    Time step:     1    Ground-Water Flow Eqn.\n",
      " Solving:  Stress period:    21    Time step:     2    Ground-Water Flow Eqn.\n",
      " Solving:  Stress period:    21    Time step:     3    Ground-Water Flow Eqn.\n",
      " Solving:  Stress period:    21    Time step:     4    Ground-Water Flow Eqn.\n",
      " Solving:  Stress period:    21    Time step:     5    Ground-Water Flow Eqn.\n",
      " Solving:  Stress period:    22    Time step:     1    Ground-Water Flow Eqn.\n",
      " Solving:  Stress period:    22    Time step:     2    Ground-Water Flow Eqn.\n",
      " Solving:  Stress period:    22    Time step:     3    Ground-Water Flow Eqn.\n",
      " Solving:  Stress period:    22    Time step:     4    Ground-Water Flow Eqn.\n",
      " Solving:  Stress period:    22    Time step:     5    Ground-Water Flow Eqn.\n",
      " Solving:  Stress period:    22    Time step:     6    Ground-Water Flow Eqn.\n",
      " Solving:  Stress period:    22    Time step:     7    Ground-Water Flow Eqn.\n",
      " Solving:  Stress period:    23    Time step:     1    Ground-Water Flow Eqn.\n",
      " Solving:  Stress period:    23    Time step:     2    Ground-Water Flow Eqn.\n",
      " Solving:  Stress period:    23    Time step:     3    Ground-Water Flow Eqn.\n",
      " Solving:  Stress period:    23    Time step:     4    Ground-Water Flow Eqn.\n",
      " Solving:  Stress period:    23    Time step:     5    Ground-Water Flow Eqn.\n",
      " Solving:  Stress period:    24    Time step:     1    Ground-Water Flow Eqn.\n",
      " Solving:  Stress period:    24    Time step:     2    Ground-Water Flow Eqn.\n",
      " Solving:  Stress period:    24    Time step:     3    Ground-Water Flow Eqn.\n",
      " Solving:  Stress period:    24    Time step:     4    Ground-Water Flow Eqn.\n",
      " Solving:  Stress period:    24    Time step:     5    Ground-Water Flow Eqn.\n",
      " Solving:  Stress period:    24    Time step:     6    Ground-Water Flow Eqn.\n",
      " Solving:  Stress period:    24    Time step:     7    Ground-Water Flow Eqn.\n",
      " Solving:  Stress period:    25    Time step:     1    Ground-Water Flow Eqn.\n",
      " Solving:  Stress period:    25    Time step:     2    Ground-Water Flow Eqn.\n",
      " Solving:  Stress period:    25    Time step:     3    Ground-Water Flow Eqn.\n",
      " Solving:  Stress period:    25    Time step:     4    Ground-Water Flow Eqn.\n",
      " Solving:  Stress period:    25    Time step:     5    Ground-Water Flow Eqn.\n",
      " Solving:  Stress period:    26    Time step:     1    Ground-Water Flow Eqn.\n",
      " Solving:  Stress period:    26    Time step:     2    Ground-Water Flow Eqn.\n",
      " Solving:  Stress period:    26    Time step:     3    Ground-Water Flow Eqn.\n",
      " Solving:  Stress period:    26    Time step:     4    Ground-Water Flow Eqn.\n",
      " Solving:  Stress period:    26    Time step:     5    Ground-Water Flow Eqn.\n",
      " Solving:  Stress period:    26    Time step:     6    Ground-Water Flow Eqn.\n",
      " Solving:  Stress period:    26    Time step:     7    Ground-Water Flow Eqn.\n",
      " Solving:  Stress period:    27    Time step:     1    Ground-Water Flow Eqn.\n",
      " Solving:  Stress period:    27    Time step:     2    Ground-Water Flow Eqn.\n",
      " Solving:  Stress period:    27    Time step:     3    Ground-Water Flow Eqn.\n",
      " Solving:  Stress period:    27    Time step:     4    Ground-Water Flow Eqn.\n",
      " Solving:  Stress period:    27    Time step:     5    Ground-Water Flow Eqn.\n",
      " Solving:  Stress period:    28    Time step:     1    Ground-Water Flow Eqn.\n",
      " Solving:  Stress period:    28    Time step:     2    Ground-Water Flow Eqn.\n",
      " Solving:  Stress period:    28    Time step:     3    Ground-Water Flow Eqn.\n",
      " Solving:  Stress period:    28    Time step:     4    Ground-Water Flow Eqn.\n",
      " Solving:  Stress period:    28    Time step:     5    Ground-Water Flow Eqn.\n",
      " Solving:  Stress period:    28    Time step:     6    Ground-Water Flow Eqn.\n",
      " Solving:  Stress period:    28    Time step:     7    Ground-Water Flow Eqn.\n",
      " Solving:  Stress period:    29    Time step:     1    Ground-Water Flow Eqn.\n",
      " Solving:  Stress period:    29    Time step:     2    Ground-Water Flow Eqn.\n",
      " Solving:  Stress period:    29    Time step:     3    Ground-Water Flow Eqn.\n",
      " Solving:  Stress period:    29    Time step:     4    Ground-Water Flow Eqn.\n",
      " Solving:  Stress period:    29    Time step:     5    Ground-Water Flow Eqn.\n",
      " Solving:  Stress period:    30    Time step:     1    Ground-Water Flow Eqn.\n",
      " Solving:  Stress period:    30    Time step:     2    Ground-Water Flow Eqn.\n",
      " Solving:  Stress period:    30    Time step:     3    Ground-Water Flow Eqn.\n",
      " Solving:  Stress period:    30    Time step:     4    Ground-Water Flow Eqn.\n",
      " Solving:  Stress period:    30    Time step:     5    Ground-Water Flow Eqn.\n",
      " Solving:  Stress period:    30    Time step:     6    Ground-Water Flow Eqn.\n",
      " Solving:  Stress period:    30    Time step:     7    Ground-Water Flow Eqn.\n",
      " Solving:  Stress period:    31    Time step:     1    Ground-Water Flow Eqn.\n",
      " Solving:  Stress period:    31    Time step:     2    Ground-Water Flow Eqn.\n",
      " Solving:  Stress period:    31    Time step:     3    Ground-Water Flow Eqn.\n",
      " Solving:  Stress period:    31    Time step:     4    Ground-Water Flow Eqn.\n",
      " Solving:  Stress period:    31    Time step:     5    Ground-Water Flow Eqn.\n",
      " Solving:  Stress period:    32    Time step:     1    Ground-Water Flow Eqn.\n",
      " Solving:  Stress period:    32    Time step:     2    Ground-Water Flow Eqn.\n",
      " Solving:  Stress period:    32    Time step:     3    Ground-Water Flow Eqn.\n",
      " Solving:  Stress period:    32    Time step:     4    Ground-Water Flow Eqn.\n",
      " Solving:  Stress period:    32    Time step:     5    Ground-Water Flow Eqn.\n",
      " Solving:  Stress period:    32    Time step:     6    Ground-Water Flow Eqn.\n",
      " Solving:  Stress period:    32    Time step:     7    Ground-Water Flow Eqn.\n",
      " Solving:  Stress period:    33    Time step:     1    Ground-Water Flow Eqn.\n",
      " Solving:  Stress period:    33    Time step:     2    Ground-Water Flow Eqn.\n",
      " Solving:  Stress period:    33    Time step:     3    Ground-Water Flow Eqn.\n",
      " Solving:  Stress period:    33    Time step:     4    Ground-Water Flow Eqn.\n",
      " Solving:  Stress period:    33    Time step:     5    Ground-Water Flow Eqn.\n",
      " Solving:  Stress period:    34    Time step:     1    Ground-Water Flow Eqn.\n",
      " Solving:  Stress period:    34    Time step:     2    Ground-Water Flow Eqn.\n",
      " Solving:  Stress period:    34    Time step:     3    Ground-Water Flow Eqn.\n",
      " Solving:  Stress period:    34    Time step:     4    Ground-Water Flow Eqn.\n",
      " Solving:  Stress period:    34    Time step:     5    Ground-Water Flow Eqn.\n",
      " Solving:  Stress period:    34    Time step:     6    Ground-Water Flow Eqn.\n",
      " Solving:  Stress period:    34    Time step:     7    Ground-Water Flow Eqn.\n",
      " Solving:  Stress period:    35    Time step:     1    Ground-Water Flow Eqn.\n",
      " Solving:  Stress period:    35    Time step:     2    Ground-Water Flow Eqn.\n",
      " Solving:  Stress period:    35    Time step:     3    Ground-Water Flow Eqn.\n",
      " Solving:  Stress period:    35    Time step:     4    Ground-Water Flow Eqn.\n",
      " Solving:  Stress period:    35    Time step:     5    Ground-Water Flow Eqn.\n",
      " Solving:  Stress period:    36    Time step:     1    Ground-Water Flow Eqn.\n",
      " Solving:  Stress period:    36    Time step:     2    Ground-Water Flow Eqn.\n",
      " Solving:  Stress period:    36    Time step:     3    Ground-Water Flow Eqn.\n",
      " Solving:  Stress period:    36    Time step:     4    Ground-Water Flow Eqn.\n",
      " Solving:  Stress period:    36    Time step:     5    Ground-Water Flow Eqn.\n",
      " Solving:  Stress period:    36    Time step:     6    Ground-Water Flow Eqn.\n",
      " Solving:  Stress period:    36    Time step:     7    Ground-Water Flow Eqn.\n",
      " Solving:  Stress period:    37    Time step:     1    Ground-Water Flow Eqn.\n",
      " Solving:  Stress period:    37    Time step:     2    Ground-Water Flow Eqn.\n",
      " Solving:  Stress period:    37    Time step:     3    Ground-Water Flow Eqn.\n",
      " Solving:  Stress period:    37    Time step:     4    Ground-Water Flow Eqn.\n",
      " Solving:  Stress period:    37    Time step:     5    Ground-Water Flow Eqn.\n",
      " Solving:  Stress period:    38    Time step:     1    Ground-Water Flow Eqn.\n",
      " Solving:  Stress period:    38    Time step:     2    Ground-Water Flow Eqn.\n",
      " Solving:  Stress period:    38    Time step:     3    Ground-Water Flow Eqn.\n",
      " Solving:  Stress period:    38    Time step:     4    Ground-Water Flow Eqn.\n",
      " Solving:  Stress period:    38    Time step:     5    Ground-Water Flow Eqn.\n",
      " Solving:  Stress period:    38    Time step:     6    Ground-Water Flow Eqn.\n",
      " Solving:  Stress period:    38    Time step:     7    Ground-Water Flow Eqn.\n",
      " Solving:  Stress period:    39    Time step:     1    Ground-Water Flow Eqn.\n",
      " Solving:  Stress period:    39    Time step:     2    Ground-Water Flow Eqn.\n",
      " Solving:  Stress period:    39    Time step:     3    Ground-Water Flow Eqn.\n",
      " Solving:  Stress period:    39    Time step:     4    Ground-Water Flow Eqn.\n",
      " Solving:  Stress period:    39    Time step:     5    Ground-Water Flow Eqn.\n",
      " Solving:  Stress period:    40    Time step:     1    Ground-Water Flow Eqn.\n",
      " Solving:  Stress period:    40    Time step:     2    Ground-Water Flow Eqn.\n",
      " Solving:  Stress period:    40    Time step:     3    Ground-Water Flow Eqn.\n",
      " Solving:  Stress period:    40    Time step:     4    Ground-Water Flow Eqn.\n",
      " Solving:  Stress period:    40    Time step:     5    Ground-Water Flow Eqn.\n",
      " Solving:  Stress period:    40    Time step:     6    Ground-Water Flow Eqn.\n",
      " Solving:  Stress period:    40    Time step:     7    Ground-Water Flow Eqn.\n",
      " Solving:  Stress period:    41    Time step:     1    Ground-Water Flow Eqn.\n",
      " Solving:  Stress period:    41    Time step:     2    Ground-Water Flow Eqn.\n",
      " Solving:  Stress period:    41    Time step:     3    Ground-Water Flow Eqn.\n",
      " Solving:  Stress period:    41    Time step:     4    Ground-Water Flow Eqn.\n",
      " Solving:  Stress period:    41    Time step:     5    Ground-Water Flow Eqn.\n",
      " Run end date and time (yyyy/mm/dd hh:mm:ss): 2021/02/01 23:12:18\n",
      " Elapsed run time: 59.179 Seconds\n",
      "\n",
      "  Normal termination of simulation\n"
     ]
    },
    {
     "data": {
      "text/plain": [
       "(True, [])"
      ]
     },
     "execution_count": 8,
     "metadata": {},
     "output_type": "execute_result"
    }
   ],
   "source": [
    "bm.mf.write_input()\n",
    "bm.mf.run_model()"
   ]
  },
  {
   "cell_type": "code",
   "execution_count": 9,
   "metadata": {},
   "outputs": [],
   "source": [
    "# plot model results\n",
    "import matplotlib.pyplot as plt\n",
    "import flopy.utils.binaryfile as bf\n",
    "headobj = bf.HeadFile('Results/leo_01.hds')"
   ]
  },
  {
   "cell_type": "code",
   "execution_count": 10,
   "metadata": {},
   "outputs": [],
   "source": [
    "head = headobj.get_data()"
   ]
  },
  {
   "cell_type": "code",
   "execution_count": 11,
   "metadata": {},
   "outputs": [
    {
     "data": {
      "text/plain": [
       "(19, 83, 61)"
      ]
     },
     "execution_count": 11,
     "metadata": {},
     "output_type": "execute_result"
    }
   ],
   "source": [
    "head.shape"
   ]
  },
  {
   "cell_type": "code",
   "execution_count": 12,
   "metadata": {},
   "outputs": [],
   "source": [
    "head = headobj.get_data(totim=1)"
   ]
  },
  {
   "cell_type": "code",
   "execution_count": 13,
   "metadata": {},
   "outputs": [
    {
     "data": {
      "text/plain": [
       "(19, 83, 61)"
      ]
     },
     "execution_count": 13,
     "metadata": {},
     "output_type": "execute_result"
    }
   ],
   "source": [
    "head.shape"
   ]
  },
  {
   "cell_type": "code",
   "execution_count": 14,
   "metadata": {},
   "outputs": [
    {
     "name": "stderr",
     "output_type": "stream",
     "text": [
      "<ipython-input-14-8baa8fb081d4>:12: UserWarning: No contour levels were found within the data range.\n",
      "  contours = plt.contour(head[idx_layer, :, :], zorder=10, colors='black')\n"
     ]
    },
    {
     "data": {
      "image/png": "[encoded data removed]",
      "text/plain": [
       "<Figure size 432x288 with 2 Axes>"
      ]
     },
     "metadata": {
      "needs_background": "light"
     },
     "output_type": "display_data"
    }
   ],
   "source": [
    "head = headobj.get_data(totim=1)\n",
    "times = headobj.get_times()\n",
    "\n",
    "idx_layer = 12\n",
    "\n",
    "# Make the plots\n",
    "plt.subplot(1, 1, 1, aspect='equal')\n",
    "plt.title('head (meter)')\n",
    "plt.imshow(head[idx_layer, :, :], cmap='YlGnBu_r')\n",
    "plt.colorbar()\n",
    "\n",
    "contours = plt.contour(head[idx_layer, :, :], zorder=10, colors='black')\n",
    "plt.clabel(contours, inline=1, fontsize=10, fmt='%d')\n",
    "\n",
    "plt.show()"
   ]
  },
  {
   "cell_type": "code",
   "execution_count": 15,
   "metadata": {},
   "outputs": [
    {
     "data": {
      "text/plain": [
       "(-1e+30, 0.0)"
      ]
     },
     "execution_count": 15,
     "metadata": {},
     "output_type": "execute_result"
    }
   ],
   "source": [
    "head.min(), head.max()"
   ]
  },
  {
   "cell_type": "code",
   "execution_count": 16,
   "metadata": {},
   "outputs": [
    {
     "data": {
      "text/plain": [
       "[1.0]"
      ]
     },
     "execution_count": 16,
     "metadata": {},
     "output_type": "execute_result"
    }
   ],
   "source": [
    "times"
   ]
  },
  {
   "cell_type": "code",
   "execution_count": null,
   "metadata": {},
   "outputs": [],
   "source": []
  }
 ],
 "metadata": {
  "kernelspec": {
   "display_name": "Python 3",
   "language": "python",
   "name": "python3"
  },
  "language_info": {
   "codemirror_mode": {
    "name": "ipython",
    "version": 3
   },
   "file_extension": ".py",
   "mimetype": "text/x-python",
   "name": "python",
   "nbconvert_exporter": "python",
   "pygments_lexer": "ipython3",
   "version": "3.8.6"
  }
 },
 "nbformat": 4,
 "nbformat_minor": 4
}
